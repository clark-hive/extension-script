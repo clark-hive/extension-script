{
 "cells": [
  {
   "cell_type": "code",
   "execution_count": 1,
   "metadata": {},
   "outputs": [
    {
     "name": "stdout",
     "output_type": "stream",
     "text": [
      "hi\n",
      "hello world\n"
     ]
    }
   ],
   "source": [
    "print(\"hi\")\n",
    "#%%\n",
    "print(\"hello world\")\n",
    "\n",
    "#%%"
   ]
  },
  {
   "cell_type": "code",
   "execution_count": 2,
   "metadata": {},
   "outputs": [
    {
     "name": "stdout",
     "output_type": "stream",
     "text": [
      "5.754708766319257\n",
      "graph(%x.1 : Tensor,\n",
      "      %y.1 : Tensor):\n",
      "  %31 : int = prim::Constant[value=1]()\n",
      "  %21 : NoneType = prim::Constant()\n",
      "  %3 : int = prim::Constant[value=0]() # /tmp/ipykernel_4295/2985207368.py:10:14\n",
      "  %8 : int = prim::Constant[value=42]() # /tmp/ipykernel_4295/2985207368.py:10:23\n",
      "  %13 : int = prim::Constant[value=5]() # /tmp/ipykernel_4295/2985207368.py:11:12\n",
      "  %14 : int = prim::Constant[value=10]() # /tmp/ipykernel_4295/2985207368.py:13:12\n",
      "  %20 : int = prim::Constant[value=3]() # /tmp/ipykernel_4295/2985207368.py:14:55\n",
      "  %5 : Tensor = aten::select(%x.1, %3, %3) # /tmp/ipykernel_4295/2985207368.py:10:12\n",
      "  %7 : Tensor = aten::select(%5, %3, %3) # /tmp/ipykernel_4295/2985207368.py:10:12\n",
      "  %9 : Tensor = aten::eq(%7, %8) # /tmp/ipykernel_4295/2985207368.py:10:12\n",
      "  %11 : bool = aten::Bool(%9) # /tmp/ipykernel_4295/2985207368.py:10:7\n",
      "  %z : int = prim::If(%11) # /tmp/ipykernel_4295/2985207368.py:10:4\n",
      "    block0():\n",
      "      -> (%13)\n",
      "    block1():\n",
      "      -> (%14)\n",
      "  %25 : Tensor = aten::eye(%20, %21, %21, %21, %21) # /tmp/ipykernel_4295/2985207368.py:14:45\n",
      "  %x.7 : Tensor = my_ops::warp_perspective(%x.1, %25) # /tmp/ipykernel_4295/2985207368.py:14:8\n",
      "  %29 : Tensor = aten::matmul(%x.7, %y.1) # /tmp/ipykernel_4295/2985207368.py:15:11\n",
      "  %32 : Tensor = aten::add(%29, %z, %31) # /tmp/ipykernel_4295/2985207368.py:15:11\n",
      "  return (%32)\n",
      "\n",
      "tensor([[ 5.5084, 13.7616,  6.1952, 12.6784,  6.5519],\n",
      "        [11.5015,  3.3138, 12.7271,  3.7104,  2.3674],\n",
      "        [ 8.8527, 10.5992, 14.0947,  8.6354, 12.4836],\n",
      "        [13.1817,  6.6463, 13.1089,  6.1787,  7.7437],\n",
      "        [10.0000, 10.0000, 10.0000, 10.0000, 10.0000],\n",
      "        [10.0000, 10.0000, 10.0000, 10.0000, 10.0000],\n",
      "        [10.0000, 10.0000, 10.0000, 10.0000, 10.0000],\n",
      "        [10.0000, 10.0000, 10.0000, 10.0000, 10.0000]])\n"
     ]
    }
   ],
   "source": [
    "import torch\n",
    "import numpy as np \n",
    "\n",
    "print(np.random.randn(9,9).sum())\n",
    "torch.ops.load_library(\"example_app/build/warp_perspective/libwarp_perspective.so\")\n",
    "\n",
    "\n",
    "@torch.jit.script\n",
    "def compute(x, y):\n",
    "    if bool(x[0][0] == 42):\n",
    "        z = 5\n",
    "    else:\n",
    "        z = 10\n",
    "    x = torch.ops.my_ops.warp_perspective(x, torch.eye(3))\n",
    "    return x.matmul(y) + z\n",
    "\n",
    "\n",
    "print(compute.graph)\n",
    "print(compute(torch.randn(4, 8), torch.randn(8, 5)))\n",
    "\n",
    "\n",
    "compute.save(\"example.pt\")\n",
    "\n",
    "#%%\n"
   ]
  }
 ],
 "metadata": {
  "kernelspec": {
   "display_name": "Python 3.7.13 ('base')",
   "language": "python",
   "name": "python3"
  },
  "language_info": {
   "codemirror_mode": {
    "name": "ipython",
    "version": 3
   },
   "file_extension": ".py",
   "mimetype": "text/x-python",
   "name": "python",
   "nbconvert_exporter": "python",
   "pygments_lexer": "ipython3",
   "version": "3.7.13"
  },
  "orig_nbformat": 4,
  "vscode": {
   "interpreter": {
    "hash": "c34f8c2944b400dc250e733472d3175f0e83a4ff05b06c8a0d49bd5b209fc43f"
   }
  }
 },
 "nbformat": 4,
 "nbformat_minor": 2
}
